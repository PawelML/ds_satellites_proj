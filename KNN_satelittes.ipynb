{
 "cells": [
  {
   "cell_type": "code",
   "execution_count": 1,
   "id": "71fdc84a",
   "metadata": {},
   "outputs": [],
   "source": [
    "# Basic Operation, cleaning\n",
    "import numpy as np\n",
    "import pandas as pd\n",
    "\n",
    "# Data visualization\n",
    "import matplotlib.pyplot as plt\n",
    "import seaborn as sns\n",
    "sns.set()\n",
    "\n",
    "# Standardize features\n",
    "from sklearn.preprocessing import StandardScaler\n",
    "\n",
    "# Model Building\n",
    "import statsmodels.api as sm\n",
    "from sklearn.model_selection import train_test_split\n",
    "from sklearn.neighbors import KNeighborsClassifier\n",
    "from sklearn.metrics import classification_report, ConfusionMatrixDisplay, accuracy_score\n",
    "from sklearn.model_selection import GridSearchCV"
   ]
  },
  {
   "cell_type": "markdown",
   "id": "3f2d1f37",
   "metadata": {},
   "source": [
    "# Load the data"
   ]
  },
  {
   "cell_type": "code",
   "execution_count": 2,
   "id": "fce9a526",
   "metadata": {},
   "outputs": [
    {
     "data": {
      "text/html": [
       "<div>\n",
       "<style scoped>\n",
       "    .dataframe tbody tr th:only-of-type {\n",
       "        vertical-align: middle;\n",
       "    }\n",
       "\n",
       "    .dataframe tbody tr th {\n",
       "        vertical-align: top;\n",
       "    }\n",
       "\n",
       "    .dataframe thead th {\n",
       "        text-align: right;\n",
       "    }\n",
       "</style>\n",
       "<table border=\"1\" class=\"dataframe\">\n",
       "  <thead>\n",
       "    <tr style=\"text-align: right;\">\n",
       "      <th></th>\n",
       "      <th>Name of Satellite, Alternate Names</th>\n",
       "      <th>Current Official Name of Satellite</th>\n",
       "      <th>Country/Org of UN Registry</th>\n",
       "      <th>Country of Operator/Owner</th>\n",
       "      <th>Operator/Owner</th>\n",
       "      <th>Users</th>\n",
       "      <th>Purpose</th>\n",
       "      <th>Detailed Purpose</th>\n",
       "      <th>Class of Orbit</th>\n",
       "      <th>Type of Orbit</th>\n",
       "      <th>...</th>\n",
       "      <th>Unnamed: 56</th>\n",
       "      <th>Unnamed: 57</th>\n",
       "      <th>Unnamed: 58</th>\n",
       "      <th>Unnamed: 59</th>\n",
       "      <th>Unnamed: 60</th>\n",
       "      <th>Unnamed: 61</th>\n",
       "      <th>Unnamed: 62</th>\n",
       "      <th>Unnamed: 63</th>\n",
       "      <th>Unnamed: 64</th>\n",
       "      <th>Unnamed: 65</th>\n",
       "    </tr>\n",
       "  </thead>\n",
       "  <tbody>\n",
       "    <tr>\n",
       "      <th>0</th>\n",
       "      <td>1HOPSAT-TD (1st-generation High Optical Perfor...</td>\n",
       "      <td>1HOPSAT-TD</td>\n",
       "      <td>NR</td>\n",
       "      <td>USA</td>\n",
       "      <td>Hera Systems</td>\n",
       "      <td>Commercial</td>\n",
       "      <td>Earth Observation</td>\n",
       "      <td>Infrared Imaging</td>\n",
       "      <td>LEO</td>\n",
       "      <td>Non-Polar Inclined</td>\n",
       "      <td>...</td>\n",
       "      <td>NaN</td>\n",
       "      <td>NaN</td>\n",
       "      <td>NaN</td>\n",
       "      <td>NaN</td>\n",
       "      <td>NaN</td>\n",
       "      <td>NaN</td>\n",
       "      <td>NaN</td>\n",
       "      <td>NaN</td>\n",
       "      <td>NaN</td>\n",
       "      <td>NaN</td>\n",
       "    </tr>\n",
       "    <tr>\n",
       "      <th>1</th>\n",
       "      <td>Aalto-1</td>\n",
       "      <td>Aalto-1</td>\n",
       "      <td>Finland</td>\n",
       "      <td>Finland</td>\n",
       "      <td>Aalto University</td>\n",
       "      <td>Civil</td>\n",
       "      <td>Technology Development</td>\n",
       "      <td>NaN</td>\n",
       "      <td>LEO</td>\n",
       "      <td>Sun-Synchronous</td>\n",
       "      <td>...</td>\n",
       "      <td>NaN</td>\n",
       "      <td>NaN</td>\n",
       "      <td>NaN</td>\n",
       "      <td>NaN</td>\n",
       "      <td>NaN</td>\n",
       "      <td>NaN</td>\n",
       "      <td>NaN</td>\n",
       "      <td>NaN</td>\n",
       "      <td>NaN</td>\n",
       "      <td>NaN</td>\n",
       "    </tr>\n",
       "    <tr>\n",
       "      <th>2</th>\n",
       "      <td>AAUSat-4</td>\n",
       "      <td>AAUSat-4</td>\n",
       "      <td>Denmark</td>\n",
       "      <td>Denmark</td>\n",
       "      <td>University of Aalborg</td>\n",
       "      <td>Civil</td>\n",
       "      <td>Earth Observation</td>\n",
       "      <td>Automatic Identification System (AIS)</td>\n",
       "      <td>LEO</td>\n",
       "      <td>Sun-Synchronous</td>\n",
       "      <td>...</td>\n",
       "      <td>NaN</td>\n",
       "      <td>NaN</td>\n",
       "      <td>NaN</td>\n",
       "      <td>NaN</td>\n",
       "      <td>NaN</td>\n",
       "      <td>NaN</td>\n",
       "      <td>NaN</td>\n",
       "      <td>NaN</td>\n",
       "      <td>NaN</td>\n",
       "      <td>NaN</td>\n",
       "    </tr>\n",
       "    <tr>\n",
       "      <th>3</th>\n",
       "      <td>ABS-2 (Koreasat-8, ST-3)</td>\n",
       "      <td>ABS-2</td>\n",
       "      <td>NR</td>\n",
       "      <td>Multinational</td>\n",
       "      <td>Asia Broadcast Satellite Ltd.</td>\n",
       "      <td>Commercial</td>\n",
       "      <td>Communications</td>\n",
       "      <td>NaN</td>\n",
       "      <td>GEO</td>\n",
       "      <td>NaN</td>\n",
       "      <td>...</td>\n",
       "      <td>NaN</td>\n",
       "      <td>NaN</td>\n",
       "      <td>NaN</td>\n",
       "      <td>NaN</td>\n",
       "      <td>NaN</td>\n",
       "      <td>NaN</td>\n",
       "      <td>NaN</td>\n",
       "      <td>NaN</td>\n",
       "      <td>NaN</td>\n",
       "      <td>NaN</td>\n",
       "    </tr>\n",
       "    <tr>\n",
       "      <th>4</th>\n",
       "      <td>ABS-2A</td>\n",
       "      <td>ABS-2A</td>\n",
       "      <td>NR</td>\n",
       "      <td>Multinational</td>\n",
       "      <td>Asia Broadcast Satellite Ltd.</td>\n",
       "      <td>Commercial</td>\n",
       "      <td>Communications</td>\n",
       "      <td>NaN</td>\n",
       "      <td>GEO</td>\n",
       "      <td>NaN</td>\n",
       "      <td>...</td>\n",
       "      <td>NaN</td>\n",
       "      <td>NaN</td>\n",
       "      <td>NaN</td>\n",
       "      <td>NaN</td>\n",
       "      <td>NaN</td>\n",
       "      <td>NaN</td>\n",
       "      <td>NaN</td>\n",
       "      <td>NaN</td>\n",
       "      <td>NaN</td>\n",
       "      <td>NaN</td>\n",
       "    </tr>\n",
       "  </tbody>\n",
       "</table>\n",
       "<p>5 rows × 66 columns</p>\n",
       "</div>"
      ],
      "text/plain": [
       "                  Name of Satellite, Alternate Names  \\\n",
       "0  1HOPSAT-TD (1st-generation High Optical Perfor...   \n",
       "1                                           Aalto-1    \n",
       "2                                           AAUSat-4   \n",
       "3                           ABS-2 (Koreasat-8, ST-3)   \n",
       "4                                             ABS-2A   \n",
       "\n",
       "  Current Official Name of Satellite Country/Org of UN Registry  \\\n",
       "0                         1HOPSAT-TD                         NR   \n",
       "1                            Aalto-1                    Finland   \n",
       "2                           AAUSat-4                    Denmark   \n",
       "3                              ABS-2                         NR   \n",
       "4                             ABS-2A                         NR   \n",
       "\n",
       "  Country of Operator/Owner                 Operator/Owner       Users  \\\n",
       "0                       USA                   Hera Systems  Commercial   \n",
       "1                   Finland               Aalto University       Civil   \n",
       "2                   Denmark          University of Aalborg       Civil   \n",
       "3             Multinational  Asia Broadcast Satellite Ltd.  Commercial   \n",
       "4             Multinational  Asia Broadcast Satellite Ltd.  Commercial   \n",
       "\n",
       "                  Purpose                       Detailed Purpose  \\\n",
       "0       Earth Observation                       Infrared Imaging   \n",
       "1  Technology Development                                    NaN   \n",
       "2       Earth Observation  Automatic Identification System (AIS)   \n",
       "3          Communications                                    NaN   \n",
       "4          Communications                                    NaN   \n",
       "\n",
       "  Class of Orbit       Type of Orbit  ...  Unnamed: 56 Unnamed: 57  \\\n",
       "0            LEO  Non-Polar Inclined  ...          NaN         NaN   \n",
       "1            LEO     Sun-Synchronous  ...          NaN         NaN   \n",
       "2            LEO     Sun-Synchronous  ...          NaN         NaN   \n",
       "3            GEO                 NaN  ...          NaN         NaN   \n",
       "4            GEO                 NaN  ...          NaN         NaN   \n",
       "\n",
       "  Unnamed: 58  Unnamed: 59  Unnamed: 60  Unnamed: 61 Unnamed: 62 Unnamed: 63  \\\n",
       "0         NaN          NaN          NaN          NaN         NaN         NaN   \n",
       "1         NaN          NaN          NaN          NaN         NaN         NaN   \n",
       "2         NaN          NaN          NaN          NaN         NaN         NaN   \n",
       "3         NaN          NaN          NaN          NaN         NaN         NaN   \n",
       "4         NaN          NaN          NaN          NaN         NaN         NaN   \n",
       "\n",
       "  Unnamed: 64  Unnamed: 65  \n",
       "0         NaN          NaN  \n",
       "1         NaN          NaN  \n",
       "2         NaN          NaN  \n",
       "3         NaN          NaN  \n",
       "4         NaN          NaN  \n",
       "\n",
       "[5 rows x 66 columns]"
      ]
     },
     "execution_count": 2,
     "metadata": {},
     "output_type": "execute_result"
    }
   ],
   "source": [
    "train = pd.read_csv('satelitte.csv')\n",
    "train_df = train.copy()\n",
    "\n",
    "train.head()"
   ]
  },
  {
   "cell_type": "markdown",
   "id": "1b642041",
   "metadata": {},
   "source": [
    "# Data cleaning"
   ]
  },
  {
   "cell_type": "markdown",
   "id": "c49f7a26",
   "metadata": {},
   "source": [
    "#### Explore columns that have missing values."
   ]
  },
  {
   "cell_type": "code",
   "execution_count": 3,
   "id": "8b5561ba",
   "metadata": {
    "scrolled": true
   },
   "outputs": [
    {
     "data": {
      "text/html": [
       "<div>\n",
       "<style scoped>\n",
       "    .dataframe tbody tr th:only-of-type {\n",
       "        vertical-align: middle;\n",
       "    }\n",
       "\n",
       "    .dataframe tbody tr th {\n",
       "        vertical-align: top;\n",
       "    }\n",
       "\n",
       "    .dataframe thead th {\n",
       "        text-align: right;\n",
       "    }\n",
       "</style>\n",
       "<table border=\"1\" class=\"dataframe\">\n",
       "  <thead>\n",
       "    <tr style=\"text-align: right;\">\n",
       "      <th></th>\n",
       "      <th>NaN_count</th>\n",
       "      <th>NaN_percentage</th>\n",
       "    </tr>\n",
       "  </thead>\n",
       "  <tbody>\n",
       "    <tr>\n",
       "      <th>Unnamed: 49</th>\n",
       "      <td>5467</td>\n",
       "      <td>1.000000</td>\n",
       "    </tr>\n",
       "    <tr>\n",
       "      <th>Unnamed: 40</th>\n",
       "      <td>5467</td>\n",
       "      <td>1.000000</td>\n",
       "    </tr>\n",
       "    <tr>\n",
       "      <th>Unnamed: 42</th>\n",
       "      <td>5467</td>\n",
       "      <td>1.000000</td>\n",
       "    </tr>\n",
       "    <tr>\n",
       "      <th>Unnamed: 43</th>\n",
       "      <td>5467</td>\n",
       "      <td>1.000000</td>\n",
       "    </tr>\n",
       "    <tr>\n",
       "      <th>Unnamed: 44</th>\n",
       "      <td>5467</td>\n",
       "      <td>1.000000</td>\n",
       "    </tr>\n",
       "    <tr>\n",
       "      <th>Unnamed: 45</th>\n",
       "      <td>5467</td>\n",
       "      <td>1.000000</td>\n",
       "    </tr>\n",
       "    <tr>\n",
       "      <th>Unnamed: 46</th>\n",
       "      <td>5467</td>\n",
       "      <td>1.000000</td>\n",
       "    </tr>\n",
       "    <tr>\n",
       "      <th>Unnamed: 47</th>\n",
       "      <td>5467</td>\n",
       "      <td>1.000000</td>\n",
       "    </tr>\n",
       "    <tr>\n",
       "      <th>Unnamed: 48</th>\n",
       "      <td>5467</td>\n",
       "      <td>1.000000</td>\n",
       "    </tr>\n",
       "    <tr>\n",
       "      <th>Unnamed: 39</th>\n",
       "      <td>5467</td>\n",
       "      <td>1.000000</td>\n",
       "    </tr>\n",
       "    <tr>\n",
       "      <th>Unnamed: 50</th>\n",
       "      <td>5467</td>\n",
       "      <td>1.000000</td>\n",
       "    </tr>\n",
       "    <tr>\n",
       "      <th>Unnamed: 51</th>\n",
       "      <td>5467</td>\n",
       "      <td>1.000000</td>\n",
       "    </tr>\n",
       "    <tr>\n",
       "      <th>Unnamed: 52</th>\n",
       "      <td>5467</td>\n",
       "      <td>1.000000</td>\n",
       "    </tr>\n",
       "    <tr>\n",
       "      <th>Unnamed: 53</th>\n",
       "      <td>5467</td>\n",
       "      <td>1.000000</td>\n",
       "    </tr>\n",
       "    <tr>\n",
       "      <th>Unnamed: 54</th>\n",
       "      <td>5467</td>\n",
       "      <td>1.000000</td>\n",
       "    </tr>\n",
       "    <tr>\n",
       "      <th>Unnamed: 55</th>\n",
       "      <td>5467</td>\n",
       "      <td>1.000000</td>\n",
       "    </tr>\n",
       "    <tr>\n",
       "      <th>Unnamed: 56</th>\n",
       "      <td>5467</td>\n",
       "      <td>1.000000</td>\n",
       "    </tr>\n",
       "    <tr>\n",
       "      <th>Unnamed: 57</th>\n",
       "      <td>5467</td>\n",
       "      <td>1.000000</td>\n",
       "    </tr>\n",
       "    <tr>\n",
       "      <th>Unnamed: 58</th>\n",
       "      <td>5467</td>\n",
       "      <td>1.000000</td>\n",
       "    </tr>\n",
       "    <tr>\n",
       "      <th>Unnamed: 38</th>\n",
       "      <td>5467</td>\n",
       "      <td>1.000000</td>\n",
       "    </tr>\n",
       "    <tr>\n",
       "      <th>Unnamed: 37</th>\n",
       "      <td>5467</td>\n",
       "      <td>1.000000</td>\n",
       "    </tr>\n",
       "    <tr>\n",
       "      <th>Unnamed: 36</th>\n",
       "      <td>5467</td>\n",
       "      <td>1.000000</td>\n",
       "    </tr>\n",
       "    <tr>\n",
       "      <th>Unnamed: 62</th>\n",
       "      <td>5467</td>\n",
       "      <td>1.000000</td>\n",
       "    </tr>\n",
       "    <tr>\n",
       "      <th>Unnamed: 63</th>\n",
       "      <td>5467</td>\n",
       "      <td>1.000000</td>\n",
       "    </tr>\n",
       "    <tr>\n",
       "      <th>Unnamed: 64</th>\n",
       "      <td>5467</td>\n",
       "      <td>1.000000</td>\n",
       "    </tr>\n",
       "    <tr>\n",
       "      <th>Unnamed: 41</th>\n",
       "      <td>5467</td>\n",
       "      <td>1.000000</td>\n",
       "    </tr>\n",
       "    <tr>\n",
       "      <th>Unnamed: 65</th>\n",
       "      <td>5465</td>\n",
       "      <td>0.999634</td>\n",
       "    </tr>\n",
       "    <tr>\n",
       "      <th>Unnamed: 61</th>\n",
       "      <td>5465</td>\n",
       "      <td>0.999634</td>\n",
       "    </tr>\n",
       "    <tr>\n",
       "      <th>Unnamed: 59</th>\n",
       "      <td>5464</td>\n",
       "      <td>0.999451</td>\n",
       "    </tr>\n",
       "    <tr>\n",
       "      <th>Unnamed: 60</th>\n",
       "      <td>5464</td>\n",
       "      <td>0.999451</td>\n",
       "    </tr>\n",
       "    <tr>\n",
       "      <th>Unnamed: 27</th>\n",
       "      <td>5463</td>\n",
       "      <td>0.999268</td>\n",
       "    </tr>\n",
       "    <tr>\n",
       "      <th>Source.6</th>\n",
       "      <td>5447</td>\n",
       "      <td>0.996342</td>\n",
       "    </tr>\n",
       "    <tr>\n",
       "      <th>Source.5</th>\n",
       "      <td>5397</td>\n",
       "      <td>0.987196</td>\n",
       "    </tr>\n",
       "    <tr>\n",
       "      <th>Source.1</th>\n",
       "      <td>5224</td>\n",
       "      <td>0.955551</td>\n",
       "    </tr>\n",
       "    <tr>\n",
       "      <th>Source.4</th>\n",
       "      <td>5215</td>\n",
       "      <td>0.953905</td>\n",
       "    </tr>\n",
       "    <tr>\n",
       "      <th>Power (watts)</th>\n",
       "      <td>4887</td>\n",
       "      <td>0.893909</td>\n",
       "    </tr>\n",
       "    <tr>\n",
       "      <th>Source.3</th>\n",
       "      <td>4810</td>\n",
       "      <td>0.879824</td>\n",
       "    </tr>\n",
       "    <tr>\n",
       "      <th>Detailed Purpose</th>\n",
       "      <td>4327</td>\n",
       "      <td>0.791476</td>\n",
       "    </tr>\n",
       "    <tr>\n",
       "      <th>Source.2</th>\n",
       "      <td>4057</td>\n",
       "      <td>0.742089</td>\n",
       "    </tr>\n",
       "    <tr>\n",
       "      <th>Comments</th>\n",
       "      <td>3657</td>\n",
       "      <td>0.668923</td>\n",
       "    </tr>\n",
       "    <tr>\n",
       "      <th>Source</th>\n",
       "      <td>2198</td>\n",
       "      <td>0.402049</td>\n",
       "    </tr>\n",
       "    <tr>\n",
       "      <th>Expected Lifetime (yrs.)</th>\n",
       "      <td>1868</td>\n",
       "      <td>0.341686</td>\n",
       "    </tr>\n",
       "    <tr>\n",
       "      <th>Type of Orbit</th>\n",
       "      <td>624</td>\n",
       "      <td>0.114139</td>\n",
       "    </tr>\n",
       "    <tr>\n",
       "      <th>Country/Org of UN Registry</th>\n",
       "      <td>499</td>\n",
       "      <td>0.091275</td>\n",
       "    </tr>\n",
       "    <tr>\n",
       "      <th>Launch Mass (kg.)</th>\n",
       "      <td>242</td>\n",
       "      <td>0.044266</td>\n",
       "    </tr>\n",
       "    <tr>\n",
       "      <th>Source Used for Orbital Data</th>\n",
       "      <td>195</td>\n",
       "      <td>0.035669</td>\n",
       "    </tr>\n",
       "    <tr>\n",
       "      <th>Period (minutes)</th>\n",
       "      <td>18</td>\n",
       "      <td>0.003292</td>\n",
       "    </tr>\n",
       "    <tr>\n",
       "      <th>Contractor</th>\n",
       "      <td>4</td>\n",
       "      <td>0.000732</td>\n",
       "    </tr>\n",
       "    <tr>\n",
       "      <th>Country of Contractor</th>\n",
       "      <td>4</td>\n",
       "      <td>0.000732</td>\n",
       "    </tr>\n",
       "    <tr>\n",
       "      <th>Launch Site</th>\n",
       "      <td>3</td>\n",
       "      <td>0.000549</td>\n",
       "    </tr>\n",
       "    <tr>\n",
       "      <th>Perigee (km)</th>\n",
       "      <td>3</td>\n",
       "      <td>0.000549</td>\n",
       "    </tr>\n",
       "    <tr>\n",
       "      <th>Longitude of GEO (degrees)</th>\n",
       "      <td>3</td>\n",
       "      <td>0.000549</td>\n",
       "    </tr>\n",
       "    <tr>\n",
       "      <th>Users</th>\n",
       "      <td>2</td>\n",
       "      <td>0.000366</td>\n",
       "    </tr>\n",
       "    <tr>\n",
       "      <th>Operator/Owner</th>\n",
       "      <td>2</td>\n",
       "      <td>0.000366</td>\n",
       "    </tr>\n",
       "    <tr>\n",
       "      <th>Purpose</th>\n",
       "      <td>2</td>\n",
       "      <td>0.000366</td>\n",
       "    </tr>\n",
       "    <tr>\n",
       "      <th>Country of Operator/Owner</th>\n",
       "      <td>2</td>\n",
       "      <td>0.000366</td>\n",
       "    </tr>\n",
       "    <tr>\n",
       "      <th>Class of Orbit</th>\n",
       "      <td>2</td>\n",
       "      <td>0.000366</td>\n",
       "    </tr>\n",
       "    <tr>\n",
       "      <th>Current Official Name of Satellite</th>\n",
       "      <td>2</td>\n",
       "      <td>0.000366</td>\n",
       "    </tr>\n",
       "    <tr>\n",
       "      <th>Apogee (km)</th>\n",
       "      <td>2</td>\n",
       "      <td>0.000366</td>\n",
       "    </tr>\n",
       "    <tr>\n",
       "      <th>Eccentricity</th>\n",
       "      <td>2</td>\n",
       "      <td>0.000366</td>\n",
       "    </tr>\n",
       "    <tr>\n",
       "      <th>Inclination (degrees)</th>\n",
       "      <td>2</td>\n",
       "      <td>0.000366</td>\n",
       "    </tr>\n",
       "    <tr>\n",
       "      <th>Date of Launch</th>\n",
       "      <td>2</td>\n",
       "      <td>0.000366</td>\n",
       "    </tr>\n",
       "    <tr>\n",
       "      <th>Launch Vehicle</th>\n",
       "      <td>2</td>\n",
       "      <td>0.000366</td>\n",
       "    </tr>\n",
       "    <tr>\n",
       "      <th>COSPAR Number</th>\n",
       "      <td>2</td>\n",
       "      <td>0.000366</td>\n",
       "    </tr>\n",
       "    <tr>\n",
       "      <th>NORAD Number</th>\n",
       "      <td>2</td>\n",
       "      <td>0.000366</td>\n",
       "    </tr>\n",
       "    <tr>\n",
       "      <th>Name of Satellite, Alternate Names</th>\n",
       "      <td>2</td>\n",
       "      <td>0.000366</td>\n",
       "    </tr>\n",
       "  </tbody>\n",
       "</table>\n",
       "</div>"
      ],
      "text/plain": [
       "                                    NaN_count  NaN_percentage\n",
       "Unnamed: 49                              5467        1.000000\n",
       "Unnamed: 40                              5467        1.000000\n",
       "Unnamed: 42                              5467        1.000000\n",
       "Unnamed: 43                              5467        1.000000\n",
       "Unnamed: 44                              5467        1.000000\n",
       "Unnamed: 45                              5467        1.000000\n",
       "Unnamed: 46                              5467        1.000000\n",
       "Unnamed: 47                              5467        1.000000\n",
       "Unnamed: 48                              5467        1.000000\n",
       "Unnamed: 39                              5467        1.000000\n",
       "Unnamed: 50                              5467        1.000000\n",
       "Unnamed: 51                              5467        1.000000\n",
       "Unnamed: 52                              5467        1.000000\n",
       "Unnamed: 53                              5467        1.000000\n",
       "Unnamed: 54                              5467        1.000000\n",
       "Unnamed: 55                              5467        1.000000\n",
       "Unnamed: 56                              5467        1.000000\n",
       "Unnamed: 57                              5467        1.000000\n",
       "Unnamed: 58                              5467        1.000000\n",
       "Unnamed: 38                              5467        1.000000\n",
       "Unnamed: 37                              5467        1.000000\n",
       "Unnamed: 36                              5467        1.000000\n",
       "Unnamed: 62                              5467        1.000000\n",
       "Unnamed: 63                              5467        1.000000\n",
       "Unnamed: 64                              5467        1.000000\n",
       "Unnamed: 41                              5467        1.000000\n",
       "Unnamed: 65                              5465        0.999634\n",
       "Unnamed: 61                              5465        0.999634\n",
       "Unnamed: 59                              5464        0.999451\n",
       "Unnamed: 60                              5464        0.999451\n",
       "Unnamed: 27                              5463        0.999268\n",
       "Source.6                                 5447        0.996342\n",
       "Source.5                                 5397        0.987196\n",
       "Source.1                                 5224        0.955551\n",
       "Source.4                                 5215        0.953905\n",
       "Power (watts)                            4887        0.893909\n",
       "Source.3                                 4810        0.879824\n",
       "Detailed Purpose                         4327        0.791476\n",
       "Source.2                                 4057        0.742089\n",
       "Comments                                 3657        0.668923\n",
       "Source                                   2198        0.402049\n",
       "Expected Lifetime (yrs.)                 1868        0.341686\n",
       "Type of Orbit                             624        0.114139\n",
       "Country/Org of UN Registry                499        0.091275\n",
       "Launch Mass (kg.)                         242        0.044266\n",
       "Source Used for Orbital Data              195        0.035669\n",
       "Period (minutes)                           18        0.003292\n",
       "Contractor                                  4        0.000732\n",
       "Country of Contractor                       4        0.000732\n",
       "Launch Site                                 3        0.000549\n",
       "Perigee (km)                                3        0.000549\n",
       "Longitude of GEO (degrees)                  3        0.000549\n",
       "Users                                       2        0.000366\n",
       "Operator/Owner                              2        0.000366\n",
       "Purpose                                     2        0.000366\n",
       "Country of Operator/Owner                   2        0.000366\n",
       "Class of Orbit                              2        0.000366\n",
       "Current Official Name of Satellite          2        0.000366\n",
       "Apogee (km)                                 2        0.000366\n",
       "Eccentricity                                2        0.000366\n",
       "Inclination (degrees)                       2        0.000366\n",
       "Date of Launch                              2        0.000366\n",
       "Launch Vehicle                              2        0.000366\n",
       "COSPAR Number                               2        0.000366\n",
       "NORAD Number                                2        0.000366\n",
       "Name of Satellite, Alternate Names          2        0.000366"
      ]
     },
     "execution_count": 3,
     "metadata": {},
     "output_type": "execute_result"
    }
   ],
   "source": [
    "missing = train_df.isnull().sum()[train_df.isnull().sum() > 0]\n",
    "missing_df = pd.DataFrame({'NaN_count': missing, 'NaN_percentage': missing / len(train_df)}).sort_values(by = 'NaN_percentage', ascending = False)\n",
    "pd.set_option('display.max_rows', None)\n",
    "missing_df"
   ]
  },
  {
   "cell_type": "markdown",
   "id": "802ae30d",
   "metadata": {},
   "source": [
    "### Drop all empty columns and those where are missing too many values."
   ]
  },
  {
   "cell_type": "code",
   "execution_count": 4,
   "id": "5888707a",
   "metadata": {},
   "outputs": [],
   "source": [
    "train_df = train_df.drop(columns = ['Expected Lifetime (yrs.)', 'Source', 'Comments', 'Source.2', 'Detailed Purpose', 'Source.3',\n",
    "                                   'Power (watts)', 'Source.4', 'Source.1', 'Source.5', 'Source.6',\n",
    "                                   'Unnamed: 60', 'Unnamed: 61', 'Unnamed: 62', 'Unnamed: 64', 'Unnamed: 63', 'Unnamed: 53',\n",
    "                                   'Unnamed: 59', 'Unnamed: 58', 'Unnamed: 57', 'Unnamed: 56', 'Unnamed: 55', 'Unnamed: 54', 'Unnamed: 65',\n",
    "                                   'Unnamed: 51', 'Unnamed: 50', 'Unnamed: 49', 'Unnamed: 48' ,'Unnamed: 47', 'Unnamed: 46', 'Unnamed: 45',\n",
    "                                   'Unnamed: 44', 'Unnamed: 43', 'Unnamed: 42', 'Unnamed: 41', 'Unnamed: 40', 'Unnamed: 39', 'Unnamed: 38',\n",
    "                                   'Unnamed: 37', 'Unnamed: 52', 'Unnamed: 36', 'Unnamed: 27'])"
   ]
  },
  {
   "cell_type": "markdown",
   "id": "84c4ecb9",
   "metadata": {},
   "source": [
    "### Check and delete irrevelant columns"
   ]
  },
  {
   "cell_type": "code",
   "execution_count": 5,
   "id": "94e7b73d",
   "metadata": {},
   "outputs": [
    {
     "data": {
      "text/html": [
       "<div>\n",
       "<style scoped>\n",
       "    .dataframe tbody tr th:only-of-type {\n",
       "        vertical-align: middle;\n",
       "    }\n",
       "\n",
       "    .dataframe tbody tr th {\n",
       "        vertical-align: top;\n",
       "    }\n",
       "\n",
       "    .dataframe thead th {\n",
       "        text-align: right;\n",
       "    }\n",
       "</style>\n",
       "<table border=\"1\" class=\"dataframe\">\n",
       "  <thead>\n",
       "    <tr style=\"text-align: right;\">\n",
       "      <th></th>\n",
       "      <th>Name of Satellite, Alternate Names</th>\n",
       "      <th>Current Official Name of Satellite</th>\n",
       "      <th>Country/Org of UN Registry</th>\n",
       "      <th>Country of Operator/Owner</th>\n",
       "      <th>Operator/Owner</th>\n",
       "      <th>Users</th>\n",
       "      <th>Purpose</th>\n",
       "      <th>Class of Orbit</th>\n",
       "      <th>Type of Orbit</th>\n",
       "      <th>Longitude of GEO (degrees)</th>\n",
       "      <th>Perigee (km)</th>\n",
       "      <th>Apogee (km)</th>\n",
       "      <th>Eccentricity</th>\n",
       "      <th>Inclination (degrees)</th>\n",
       "      <th>Period (minutes)</th>\n",
       "      <th>Launch Mass (kg.)</th>\n",
       "      <th>Date of Launch</th>\n",
       "      <th>Contractor</th>\n",
       "      <th>Country of Contractor</th>\n",
       "      <th>Launch Site</th>\n",
       "      <th>Launch Vehicle</th>\n",
       "      <th>COSPAR Number</th>\n",
       "      <th>NORAD Number</th>\n",
       "      <th>Source Used for Orbital Data</th>\n",
       "    </tr>\n",
       "  </thead>\n",
       "  <tbody>\n",
       "    <tr>\n",
       "      <th>0</th>\n",
       "      <td>1HOPSAT-TD (1st-generation High Optical Perfor...</td>\n",
       "      <td>1HOPSAT-TD</td>\n",
       "      <td>NR</td>\n",
       "      <td>USA</td>\n",
       "      <td>Hera Systems</td>\n",
       "      <td>Commercial</td>\n",
       "      <td>Earth Observation</td>\n",
       "      <td>LEO</td>\n",
       "      <td>Non-Polar Inclined</td>\n",
       "      <td>0.0</td>\n",
       "      <td>566</td>\n",
       "      <td>576</td>\n",
       "      <td>0.000720</td>\n",
       "      <td>36.90</td>\n",
       "      <td>96.08</td>\n",
       "      <td>22</td>\n",
       "      <td>11/12/2019</td>\n",
       "      <td>Hera Systems</td>\n",
       "      <td>USA</td>\n",
       "      <td>Satish Dhawan Space Centre</td>\n",
       "      <td>PSLV</td>\n",
       "      <td>2019-089H</td>\n",
       "      <td>44859.0</td>\n",
       "      <td>JMSatcat/3_20</td>\n",
       "    </tr>\n",
       "    <tr>\n",
       "      <th>1</th>\n",
       "      <td>Aalto-1</td>\n",
       "      <td>Aalto-1</td>\n",
       "      <td>Finland</td>\n",
       "      <td>Finland</td>\n",
       "      <td>Aalto University</td>\n",
       "      <td>Civil</td>\n",
       "      <td>Technology Development</td>\n",
       "      <td>LEO</td>\n",
       "      <td>Sun-Synchronous</td>\n",
       "      <td>0.0</td>\n",
       "      <td>497</td>\n",
       "      <td>517</td>\n",
       "      <td>0.001450</td>\n",
       "      <td>97.45</td>\n",
       "      <td>94.70</td>\n",
       "      <td>5</td>\n",
       "      <td>23/06/2017</td>\n",
       "      <td>Aalto University</td>\n",
       "      <td>Finland</td>\n",
       "      <td>Satish Dhawan Space Centre</td>\n",
       "      <td>PSLV</td>\n",
       "      <td>2017-036L</td>\n",
       "      <td>42775.0</td>\n",
       "      <td>JMSatcat/10_17</td>\n",
       "    </tr>\n",
       "    <tr>\n",
       "      <th>2</th>\n",
       "      <td>AAUSat-4</td>\n",
       "      <td>AAUSat-4</td>\n",
       "      <td>Denmark</td>\n",
       "      <td>Denmark</td>\n",
       "      <td>University of Aalborg</td>\n",
       "      <td>Civil</td>\n",
       "      <td>Earth Observation</td>\n",
       "      <td>LEO</td>\n",
       "      <td>Sun-Synchronous</td>\n",
       "      <td>0.0</td>\n",
       "      <td>442</td>\n",
       "      <td>687</td>\n",
       "      <td>0.017700</td>\n",
       "      <td>98.20</td>\n",
       "      <td>95.90</td>\n",
       "      <td>1</td>\n",
       "      <td>25/04/2016</td>\n",
       "      <td>University of Aalborg</td>\n",
       "      <td>Denmark</td>\n",
       "      <td>Guiana Space Center</td>\n",
       "      <td>Soyuz-2.1a</td>\n",
       "      <td>2016-025E</td>\n",
       "      <td>41460.0</td>\n",
       "      <td>Space50</td>\n",
       "    </tr>\n",
       "    <tr>\n",
       "      <th>3</th>\n",
       "      <td>ABS-2 (Koreasat-8, ST-3)</td>\n",
       "      <td>ABS-2</td>\n",
       "      <td>NR</td>\n",
       "      <td>Multinational</td>\n",
       "      <td>Asia Broadcast Satellite Ltd.</td>\n",
       "      <td>Commercial</td>\n",
       "      <td>Communications</td>\n",
       "      <td>GEO</td>\n",
       "      <td>NaN</td>\n",
       "      <td>75.0</td>\n",
       "      <td>35 778</td>\n",
       "      <td>35 793</td>\n",
       "      <td>0.000178</td>\n",
       "      <td>0.08</td>\n",
       "      <td>1436.03</td>\n",
       "      <td>6 330</td>\n",
       "      <td>06/02/2014</td>\n",
       "      <td>Space Systems/Loral</td>\n",
       "      <td>USA</td>\n",
       "      <td>Guiana Space Center</td>\n",
       "      <td>Ariane 5 ECA</td>\n",
       "      <td>2014-006A</td>\n",
       "      <td>39508.0</td>\n",
       "      <td>ZARYA</td>\n",
       "    </tr>\n",
       "    <tr>\n",
       "      <th>4</th>\n",
       "      <td>ABS-2A</td>\n",
       "      <td>ABS-2A</td>\n",
       "      <td>NR</td>\n",
       "      <td>Multinational</td>\n",
       "      <td>Asia Broadcast Satellite Ltd.</td>\n",
       "      <td>Commercial</td>\n",
       "      <td>Communications</td>\n",
       "      <td>GEO</td>\n",
       "      <td>NaN</td>\n",
       "      <td>-75.0</td>\n",
       "      <td>35 700</td>\n",
       "      <td>35 700</td>\n",
       "      <td>0.000000</td>\n",
       "      <td>0.00</td>\n",
       "      <td>1436.10</td>\n",
       "      <td>1 800</td>\n",
       "      <td>15/06/2016</td>\n",
       "      <td>Boeing Satellite Systems</td>\n",
       "      <td>USA</td>\n",
       "      <td>Cape Canaveral</td>\n",
       "      <td>Falcon 9</td>\n",
       "      <td>2016-038A</td>\n",
       "      <td>41588.0</td>\n",
       "      <td>Estimated</td>\n",
       "    </tr>\n",
       "  </tbody>\n",
       "</table>\n",
       "</div>"
      ],
      "text/plain": [
       "                  Name of Satellite, Alternate Names  \\\n",
       "0  1HOPSAT-TD (1st-generation High Optical Perfor...   \n",
       "1                                           Aalto-1    \n",
       "2                                           AAUSat-4   \n",
       "3                           ABS-2 (Koreasat-8, ST-3)   \n",
       "4                                             ABS-2A   \n",
       "\n",
       "  Current Official Name of Satellite Country/Org of UN Registry  \\\n",
       "0                         1HOPSAT-TD                         NR   \n",
       "1                            Aalto-1                    Finland   \n",
       "2                           AAUSat-4                    Denmark   \n",
       "3                              ABS-2                         NR   \n",
       "4                             ABS-2A                         NR   \n",
       "\n",
       "  Country of Operator/Owner                 Operator/Owner       Users  \\\n",
       "0                       USA                   Hera Systems  Commercial   \n",
       "1                   Finland               Aalto University       Civil   \n",
       "2                   Denmark          University of Aalborg       Civil   \n",
       "3             Multinational  Asia Broadcast Satellite Ltd.  Commercial   \n",
       "4             Multinational  Asia Broadcast Satellite Ltd.  Commercial   \n",
       "\n",
       "                  Purpose Class of Orbit       Type of Orbit  \\\n",
       "0       Earth Observation            LEO  Non-Polar Inclined   \n",
       "1  Technology Development            LEO     Sun-Synchronous   \n",
       "2       Earth Observation            LEO     Sun-Synchronous   \n",
       "3          Communications            GEO                 NaN   \n",
       "4          Communications            GEO                 NaN   \n",
       "\n",
       "   Longitude of GEO (degrees) Perigee (km) Apogee (km)  Eccentricity  \\\n",
       "0                         0.0          566         576      0.000720   \n",
       "1                         0.0          497         517      0.001450   \n",
       "2                         0.0          442         687      0.017700   \n",
       "3                        75.0       35 778      35 793      0.000178   \n",
       "4                       -75.0       35 700      35 700      0.000000   \n",
       "\n",
       "   Inclination (degrees)  Period (minutes) Launch Mass (kg.) Date of Launch  \\\n",
       "0                  36.90             96.08                22     11/12/2019   \n",
       "1                  97.45             94.70                 5     23/06/2017   \n",
       "2                  98.20             95.90                 1     25/04/2016   \n",
       "3                   0.08           1436.03             6 330     06/02/2014   \n",
       "4                   0.00           1436.10             1 800     15/06/2016   \n",
       "\n",
       "                 Contractor Country of Contractor                 Launch Site  \\\n",
       "0              Hera Systems                   USA  Satish Dhawan Space Centre   \n",
       "1          Aalto University               Finland  Satish Dhawan Space Centre   \n",
       "2     University of Aalborg               Denmark         Guiana Space Center   \n",
       "3       Space Systems/Loral                   USA         Guiana Space Center   \n",
       "4  Boeing Satellite Systems                   USA              Cape Canaveral   \n",
       "\n",
       "  Launch Vehicle COSPAR Number  NORAD Number Source Used for Orbital Data  \n",
       "0           PSLV     2019-089H       44859.0                JMSatcat/3_20  \n",
       "1           PSLV     2017-036L       42775.0               JMSatcat/10_17  \n",
       "2     Soyuz-2.1a     2016-025E       41460.0                      Space50  \n",
       "3   Ariane 5 ECA     2014-006A       39508.0                        ZARYA  \n",
       "4       Falcon 9     2016-038A       41588.0                    Estimated  "
      ]
     },
     "execution_count": 5,
     "metadata": {},
     "output_type": "execute_result"
    }
   ],
   "source": [
    "pd.set_option('display.max_columns', None)\n",
    "train_df.head()"
   ]
  },
  {
   "cell_type": "code",
   "execution_count": 6,
   "id": "b8e20c15",
   "metadata": {},
   "outputs": [],
   "source": [
    "train_df = train_df.drop(columns = ['Class of Orbit', 'Name of Satellite, Alternate Names', 'Current Official Name of Satellite',\n",
    "                                    'Country/Org of UN Registry', 'Country of Operator/Owner', 'Operator/Owner',\n",
    "                                    'Users', 'Purpose', 'Date of Launch', 'Contractor', 'Country of Contractor',\n",
    "                                    'Launch Site', 'Launch Vehicle', 'COSPAR Number', 'NORAD Number', \n",
    "                                    'Source Used for Orbital Data', 'Longitude of GEO (degrees)'])"
   ]
  },
  {
   "cell_type": "code",
   "execution_count": 7,
   "id": "a8d0209b",
   "metadata": {
    "scrolled": true
   },
   "outputs": [
    {
     "data": {
      "text/html": [
       "<div>\n",
       "<style scoped>\n",
       "    .dataframe tbody tr th:only-of-type {\n",
       "        vertical-align: middle;\n",
       "    }\n",
       "\n",
       "    .dataframe tbody tr th {\n",
       "        vertical-align: top;\n",
       "    }\n",
       "\n",
       "    .dataframe thead th {\n",
       "        text-align: right;\n",
       "    }\n",
       "</style>\n",
       "<table border=\"1\" class=\"dataframe\">\n",
       "  <thead>\n",
       "    <tr style=\"text-align: right;\">\n",
       "      <th></th>\n",
       "      <th>Type of Orbit</th>\n",
       "      <th>Perigee (km)</th>\n",
       "      <th>Apogee (km)</th>\n",
       "      <th>Eccentricity</th>\n",
       "      <th>Inclination (degrees)</th>\n",
       "      <th>Period (minutes)</th>\n",
       "      <th>Launch Mass (kg.)</th>\n",
       "    </tr>\n",
       "  </thead>\n",
       "  <tbody>\n",
       "    <tr>\n",
       "      <th>0</th>\n",
       "      <td>Non-Polar Inclined</td>\n",
       "      <td>566</td>\n",
       "      <td>576</td>\n",
       "      <td>0.000720</td>\n",
       "      <td>36.90</td>\n",
       "      <td>96.08</td>\n",
       "      <td>22</td>\n",
       "    </tr>\n",
       "    <tr>\n",
       "      <th>1</th>\n",
       "      <td>Sun-Synchronous</td>\n",
       "      <td>497</td>\n",
       "      <td>517</td>\n",
       "      <td>0.001450</td>\n",
       "      <td>97.45</td>\n",
       "      <td>94.70</td>\n",
       "      <td>5</td>\n",
       "    </tr>\n",
       "    <tr>\n",
       "      <th>2</th>\n",
       "      <td>Sun-Synchronous</td>\n",
       "      <td>442</td>\n",
       "      <td>687</td>\n",
       "      <td>0.017700</td>\n",
       "      <td>98.20</td>\n",
       "      <td>95.90</td>\n",
       "      <td>1</td>\n",
       "    </tr>\n",
       "    <tr>\n",
       "      <th>3</th>\n",
       "      <td>NaN</td>\n",
       "      <td>35 778</td>\n",
       "      <td>35 793</td>\n",
       "      <td>0.000178</td>\n",
       "      <td>0.08</td>\n",
       "      <td>1436.03</td>\n",
       "      <td>6 330</td>\n",
       "    </tr>\n",
       "    <tr>\n",
       "      <th>4</th>\n",
       "      <td>NaN</td>\n",
       "      <td>35 700</td>\n",
       "      <td>35 700</td>\n",
       "      <td>0.000000</td>\n",
       "      <td>0.00</td>\n",
       "      <td>1436.10</td>\n",
       "      <td>1 800</td>\n",
       "    </tr>\n",
       "  </tbody>\n",
       "</table>\n",
       "</div>"
      ],
      "text/plain": [
       "        Type of Orbit Perigee (km) Apogee (km)  Eccentricity  \\\n",
       "0  Non-Polar Inclined          566         576      0.000720   \n",
       "1     Sun-Synchronous          497         517      0.001450   \n",
       "2     Sun-Synchronous          442         687      0.017700   \n",
       "3                 NaN       35 778      35 793      0.000178   \n",
       "4                 NaN       35 700      35 700      0.000000   \n",
       "\n",
       "   Inclination (degrees)  Period (minutes) Launch Mass (kg.)  \n",
       "0                  36.90             96.08                22  \n",
       "1                  97.45             94.70                 5  \n",
       "2                  98.20             95.90                 1  \n",
       "3                   0.08           1436.03             6 330  \n",
       "4                   0.00           1436.10             1 800  "
      ]
     },
     "execution_count": 7,
     "metadata": {},
     "output_type": "execute_result"
    }
   ],
   "source": [
    "train_df.head()"
   ]
  },
  {
   "cell_type": "markdown",
   "id": "dea30f04",
   "metadata": {},
   "source": [
    "## Dealing with missing values"
   ]
  },
  {
   "cell_type": "code",
   "execution_count": 8,
   "id": "1aadb576",
   "metadata": {},
   "outputs": [
    {
     "data": {
      "text/plain": [
       "Type of Orbit            624\n",
       "Perigee (km)               3\n",
       "Apogee (km)                2\n",
       "Eccentricity               2\n",
       "Inclination (degrees)      2\n",
       "Period (minutes)          18\n",
       "Launch Mass (kg.)        242\n",
       "dtype: int64"
      ]
     },
     "execution_count": 8,
     "metadata": {},
     "output_type": "execute_result"
    }
   ],
   "source": [
    "train_df.isnull().sum()"
   ]
  },
  {
   "cell_type": "code",
   "execution_count": 9,
   "id": "dc1e9c6d",
   "metadata": {},
   "outputs": [],
   "source": [
    "data_no_mv = train_df.dropna(axis=0)"
   ]
  },
  {
   "cell_type": "code",
   "execution_count": 10,
   "id": "ec3fef9d",
   "metadata": {},
   "outputs": [
    {
     "data": {
      "text/html": [
       "<div>\n",
       "<style scoped>\n",
       "    .dataframe tbody tr th:only-of-type {\n",
       "        vertical-align: middle;\n",
       "    }\n",
       "\n",
       "    .dataframe tbody tr th {\n",
       "        vertical-align: top;\n",
       "    }\n",
       "\n",
       "    .dataframe thead th {\n",
       "        text-align: right;\n",
       "    }\n",
       "</style>\n",
       "<table border=\"1\" class=\"dataframe\">\n",
       "  <thead>\n",
       "    <tr style=\"text-align: right;\">\n",
       "      <th></th>\n",
       "      <th>Type of Orbit</th>\n",
       "      <th>Perigee (km)</th>\n",
       "      <th>Apogee (km)</th>\n",
       "      <th>Eccentricity</th>\n",
       "      <th>Inclination (degrees)</th>\n",
       "      <th>Period (minutes)</th>\n",
       "      <th>Launch Mass (kg.)</th>\n",
       "    </tr>\n",
       "  </thead>\n",
       "  <tbody>\n",
       "    <tr>\n",
       "      <th>count</th>\n",
       "      <td>4632</td>\n",
       "      <td>4632</td>\n",
       "      <td>4632</td>\n",
       "      <td>4632.000000</td>\n",
       "      <td>4632.000000</td>\n",
       "      <td>4632.000000</td>\n",
       "      <td>4632</td>\n",
       "    </tr>\n",
       "    <tr>\n",
       "      <th>unique</th>\n",
       "      <td>8</td>\n",
       "      <td>572</td>\n",
       "      <td>561</td>\n",
       "      <td>NaN</td>\n",
       "      <td>NaN</td>\n",
       "      <td>NaN</td>\n",
       "      <td>282</td>\n",
       "    </tr>\n",
       "    <tr>\n",
       "      <th>top</th>\n",
       "      <td>Non-Polar Inclined</td>\n",
       "      <td>548</td>\n",
       "      <td>561</td>\n",
       "      <td>NaN</td>\n",
       "      <td>NaN</td>\n",
       "      <td>NaN</td>\n",
       "      <td>260</td>\n",
       "    </tr>\n",
       "    <tr>\n",
       "      <th>freq</th>\n",
       "      <td>2574</td>\n",
       "      <td>943</td>\n",
       "      <td>720</td>\n",
       "      <td>NaN</td>\n",
       "      <td>NaN</td>\n",
       "      <td>NaN</td>\n",
       "      <td>1765</td>\n",
       "    </tr>\n",
       "    <tr>\n",
       "      <th>mean</th>\n",
       "      <td>NaN</td>\n",
       "      <td>NaN</td>\n",
       "      <td>NaN</td>\n",
       "      <td>0.331229</td>\n",
       "      <td>70.082971</td>\n",
       "      <td>123.367062</td>\n",
       "      <td>NaN</td>\n",
       "    </tr>\n",
       "    <tr>\n",
       "      <th>std</th>\n",
       "      <td>NaN</td>\n",
       "      <td>NaN</td>\n",
       "      <td>NaN</td>\n",
       "      <td>12.815865</td>\n",
       "      <td>21.939654</td>\n",
       "      <td>292.461990</td>\n",
       "      <td>NaN</td>\n",
       "    </tr>\n",
       "    <tr>\n",
       "      <th>min</th>\n",
       "      <td>NaN</td>\n",
       "      <td>NaN</td>\n",
       "      <td>NaN</td>\n",
       "      <td>0.000000</td>\n",
       "      <td>0.000000</td>\n",
       "      <td>89.900000</td>\n",
       "      <td>NaN</td>\n",
       "    </tr>\n",
       "    <tr>\n",
       "      <th>25%</th>\n",
       "      <td>NaN</td>\n",
       "      <td>NaN</td>\n",
       "      <td>NaN</td>\n",
       "      <td>0.000223</td>\n",
       "      <td>53.000000</td>\n",
       "      <td>94.300000</td>\n",
       "      <td>NaN</td>\n",
       "    </tr>\n",
       "    <tr>\n",
       "      <th>50%</th>\n",
       "      <td>NaN</td>\n",
       "      <td>NaN</td>\n",
       "      <td>NaN</td>\n",
       "      <td>0.000870</td>\n",
       "      <td>53.200000</td>\n",
       "      <td>95.600000</td>\n",
       "      <td>NaN</td>\n",
       "    </tr>\n",
       "    <tr>\n",
       "      <th>75%</th>\n",
       "      <td>NaN</td>\n",
       "      <td>NaN</td>\n",
       "      <td>NaN</td>\n",
       "      <td>0.001160</td>\n",
       "      <td>97.400000</td>\n",
       "      <td>96.162500</td>\n",
       "      <td>NaN</td>\n",
       "    </tr>\n",
       "    <tr>\n",
       "      <th>max</th>\n",
       "      <td>NaN</td>\n",
       "      <td>NaN</td>\n",
       "      <td>NaN</td>\n",
       "      <td>511.000000</td>\n",
       "      <td>143.400000</td>\n",
       "      <td>11520.000000</td>\n",
       "      <td>NaN</td>\n",
       "    </tr>\n",
       "  </tbody>\n",
       "</table>\n",
       "</div>"
      ],
      "text/plain": [
       "             Type of Orbit Perigee (km) Apogee (km)  Eccentricity  \\\n",
       "count                 4632         4632        4632   4632.000000   \n",
       "unique                   8          572         561           NaN   \n",
       "top     Non-Polar Inclined          548         561           NaN   \n",
       "freq                  2574          943         720           NaN   \n",
       "mean                   NaN          NaN         NaN      0.331229   \n",
       "std                    NaN          NaN         NaN     12.815865   \n",
       "min                    NaN          NaN         NaN      0.000000   \n",
       "25%                    NaN          NaN         NaN      0.000223   \n",
       "50%                    NaN          NaN         NaN      0.000870   \n",
       "75%                    NaN          NaN         NaN      0.001160   \n",
       "max                    NaN          NaN         NaN    511.000000   \n",
       "\n",
       "        Inclination (degrees)  Period (minutes) Launch Mass (kg.)  \n",
       "count             4632.000000       4632.000000              4632  \n",
       "unique                    NaN               NaN               282  \n",
       "top                       NaN               NaN               260  \n",
       "freq                      NaN               NaN              1765  \n",
       "mean                70.082971        123.367062               NaN  \n",
       "std                 21.939654        292.461990               NaN  \n",
       "min                  0.000000         89.900000               NaN  \n",
       "25%                 53.000000         94.300000               NaN  \n",
       "50%                 53.200000         95.600000               NaN  \n",
       "75%                 97.400000         96.162500               NaN  \n",
       "max                143.400000      11520.000000               NaN  "
      ]
     },
     "execution_count": 10,
     "metadata": {},
     "output_type": "execute_result"
    }
   ],
   "source": [
    "data_no_mv.describe(include='all')"
   ]
  },
  {
   "cell_type": "markdown",
   "id": "02685f61",
   "metadata": {},
   "source": [
    "ready_data = pd.get_dummies(data_no_mv)\n",
    "ready_data"
   ]
  },
  {
   "cell_type": "markdown",
   "id": "6a370674",
   "metadata": {},
   "source": [
    "### Checking a data types"
   ]
  },
  {
   "cell_type": "code",
   "execution_count": 11,
   "id": "4f1c152c",
   "metadata": {
    "scrolled": false
   },
   "outputs": [
    {
     "data": {
      "text/plain": [
       "Type of Orbit             object\n",
       "Perigee (km)              object\n",
       "Apogee (km)               object\n",
       "Eccentricity             float64\n",
       "Inclination (degrees)    float64\n",
       "Period (minutes)         float64\n",
       "Launch Mass (kg.)         object\n",
       "dtype: object"
      ]
     },
     "execution_count": 11,
     "metadata": {},
     "output_type": "execute_result"
    }
   ],
   "source": [
    "data_no_mv.dtypes"
   ]
  },
  {
   "cell_type": "markdown",
   "id": "9099e1a2",
   "metadata": {},
   "source": [
    "### What's occur, we have object type data that should be float64 type(Perigee (km), Apogee (km) etc.)"
   ]
  },
  {
   "cell_type": "markdown",
   "id": "10099b9d",
   "metadata": {},
   "source": [
    "### Removing white spaces from object type data"
   ]
  },
  {
   "cell_type": "code",
   "execution_count": 12,
   "id": "6bc2e9af",
   "metadata": {
    "scrolled": false
   },
   "outputs": [
    {
     "name": "stderr",
     "output_type": "stream",
     "text": [
      "/var/folders/fz/71_pf56j1vq0599jy6sz_7840000gn/T/ipykernel_45447/2127724231.py:1: SettingWithCopyWarning: \n",
      "A value is trying to be set on a copy of a slice from a DataFrame.\n",
      "Try using .loc[row_indexer,col_indexer] = value instead\n",
      "\n",
      "See the caveats in the documentation: https://pandas.pydata.org/pandas-docs/stable/user_guide/indexing.html#returning-a-view-versus-a-copy\n",
      "  data_no_mv['Perigee (km)'] = data_no_mv['Perigee (km)'].str.replace(\" \",\"\")\n",
      "/var/folders/fz/71_pf56j1vq0599jy6sz_7840000gn/T/ipykernel_45447/2127724231.py:2: SettingWithCopyWarning: \n",
      "A value is trying to be set on a copy of a slice from a DataFrame.\n",
      "Try using .loc[row_indexer,col_indexer] = value instead\n",
      "\n",
      "See the caveats in the documentation: https://pandas.pydata.org/pandas-docs/stable/user_guide/indexing.html#returning-a-view-versus-a-copy\n",
      "  data_no_mv['Apogee (km)'] = data_no_mv['Apogee (km)'].str.replace(\" \",\"\")\n",
      "/var/folders/fz/71_pf56j1vq0599jy6sz_7840000gn/T/ipykernel_45447/2127724231.py:3: SettingWithCopyWarning: \n",
      "A value is trying to be set on a copy of a slice from a DataFrame.\n",
      "Try using .loc[row_indexer,col_indexer] = value instead\n",
      "\n",
      "See the caveats in the documentation: https://pandas.pydata.org/pandas-docs/stable/user_guide/indexing.html#returning-a-view-versus-a-copy\n",
      "  data_no_mv['Launch Mass (kg.)'] = data_no_mv['Launch Mass (kg.)'].str.replace(\" \",\"\")\n"
     ]
    }
   ],
   "source": [
    "data_no_mv['Perigee (km)'] = data_no_mv['Perigee (km)'].str.replace(\" \",\"\")\n",
    "data_no_mv['Apogee (km)'] = data_no_mv['Apogee (km)'].str.replace(\" \",\"\")\n",
    "data_no_mv['Launch Mass (kg.)'] = data_no_mv['Launch Mass (kg.)'].str.replace(\" \",\"\")"
   ]
  },
  {
   "cell_type": "markdown",
   "id": "10f68b04",
   "metadata": {},
   "source": [
    "### Changinig object to float "
   ]
  },
  {
   "cell_type": "code",
   "execution_count": 13,
   "id": "4677e94b",
   "metadata": {
    "scrolled": true
   },
   "outputs": [
    {
     "name": "stdout",
     "output_type": "stream",
     "text": [
      "Type of Orbit             object\n",
      "Perigee (km)             float64\n",
      "Apogee (km)              float64\n",
      "Eccentricity             float64\n",
      "Inclination (degrees)    float64\n",
      "Period (minutes)         float64\n",
      "Launch Mass (kg.)        float64\n",
      "dtype: object\n"
     ]
    }
   ],
   "source": [
    "data_no_mv = data_no_mv.astype({'Perigee (km)':'float','Apogee (km)':'float','Launch Mass (kg.)':'float'})\n",
    "print(data_no_mv.dtypes)"
   ]
  },
  {
   "cell_type": "markdown",
   "id": "0a2e469b",
   "metadata": {},
   "source": [
    "### Checking the distribution of target data"
   ]
  },
  {
   "cell_type": "code",
   "execution_count": 14,
   "id": "a5a2f636",
   "metadata": {
    "scrolled": true
   },
   "outputs": [
    {
     "name": "stdout",
     "output_type": "stream",
     "text": [
      "['Non-Polar Inclined' 'Sun-Synchronous' 'Equatorial' 'Polar' 'Elliptical'\n",
      " 'Deep Highly Eccentric' 'Molniya' 'Cislunar']\n"
     ]
    }
   ],
   "source": [
    "print(data_no_mv[\"Type of Orbit\"].unique())"
   ]
  },
  {
   "cell_type": "code",
   "execution_count": 15,
   "id": "6b87c535",
   "metadata": {},
   "outputs": [],
   "source": [
    "data_no_mv['Type of Orbit'] = data_no_mv['Type of Orbit'].map({'Non-Polar Inclined':0, 'Sun-Synchronous':1,\n",
    "                                                               'Equatorial':2, 'Polar':3, 'Elliptical':4,\n",
    "                                                              'Deep Highly Eccentric':5, 'Molniya':6,\n",
    "                                                               'Cislunar':7})"
   ]
  },
  {
   "cell_type": "code",
   "execution_count": 16,
   "id": "78b17373",
   "metadata": {},
   "outputs": [
    {
     "name": "stderr",
     "output_type": "stream",
     "text": [
      "/Users/pawelorawiec/opt/anaconda3/lib/python3.9/site-packages/seaborn/distributions.py:2619: FutureWarning: `distplot` is a deprecated function and will be removed in a future version. Please adapt your code to use either `displot` (a figure-level function with similar flexibility) or `histplot` (an axes-level function for histograms).\n",
      "  warnings.warn(msg, FutureWarning)\n"
     ]
    },
    {
     "data": {
      "text/plain": [
       "<AxesSubplot:xlabel='Type of Orbit', ylabel='Density'>"
      ]
     },
     "execution_count": 16,
     "metadata": {},
     "output_type": "execute_result"
    },
    {
     "data": {
      "image/png": "[encoded data removed]",
      "text/plain": [
       "<Figure size 432x288 with 1 Axes>"
      ]
     },
     "metadata": {},
     "output_type": "display_data"
    }
   ],
   "source": [
    "sns.distplot(data_no_mv['Type of Orbit'])"
   ]
  },
  {
   "cell_type": "markdown",
   "id": "15acee8a",
   "metadata": {},
   "source": [
    "### Disclaimer: our data are not evenly distributed, so our model could work properly only for those data when we have sufficient amount of samples - accordingly: Non-Polar Inclined, Sun-Synchronous and Polar"
   ]
  },
  {
   "cell_type": "markdown",
   "id": "89b0c3f0",
   "metadata": {},
   "source": [
    "### Split data to target and inputs (dependent variable and independent variables)"
   ]
  },
  {
   "cell_type": "code",
   "execution_count": 17,
   "id": "ba48c678",
   "metadata": {},
   "outputs": [],
   "source": [
    "targets = data_no_mv['Type of Orbit']\n",
    "inputs = data_no_mv.drop(['Type of Orbit'],axis=1)"
   ]
  },
  {
   "cell_type": "markdown",
   "id": "504d0f9d",
   "metadata": {},
   "source": [
    "### Standardization"
   ]
  },
  {
   "cell_type": "code",
   "execution_count": 18,
   "id": "92f5d250",
   "metadata": {},
   "outputs": [
    {
     "data": {
      "text/plain": [
       "StandardScaler()"
      ]
     },
     "execution_count": 18,
     "metadata": {},
     "output_type": "execute_result"
    }
   ],
   "source": [
    "scaler = StandardScaler()\n",
    "scaler.fit(inputs)"
   ]
  },
  {
   "cell_type": "code",
   "execution_count": 19,
   "id": "2df1e7ea",
   "metadata": {},
   "outputs": [],
   "source": [
    "inputs_scaled = scaler.transform(inputs)"
   ]
  },
  {
   "cell_type": "markdown",
   "id": "81b44c7b",
   "metadata": {},
   "source": [
    "### Split data to train and test"
   ]
  },
  {
   "cell_type": "code",
   "execution_count": 20,
   "id": "2acbd714",
   "metadata": {},
   "outputs": [],
   "source": [
    "x_train, x_test, y_train, y_test = train_test_split(inputs_scaled, targets, test_size=0.2, random_state=365)"
   ]
  },
  {
   "cell_type": "markdown",
   "id": "e48fca9d",
   "metadata": {},
   "source": [
    "## MODELLING"
   ]
  },
  {
   "cell_type": "code",
   "execution_count": 21,
   "id": "d69d6060",
   "metadata": {},
   "outputs": [
    {
     "data": {
      "text/plain": [
       "KNeighborsClassifier(n_neighbors=10, weights='distance')"
      ]
     },
     "execution_count": 21,
     "metadata": {},
     "output_type": "execute_result"
    }
   ],
   "source": [
    "clf = KNeighborsClassifier(n_neighbors = 10, weights = 'distance')\n",
    "\n",
    "clf.fit(x_train, y_train)"
   ]
  },
  {
   "cell_type": "code",
   "execution_count": 22,
   "id": "e3ce30c5",
   "metadata": {
    "scrolled": true
   },
   "outputs": [
    {
     "data": {
      "text/plain": [
       "array([1, 0, 0, ..., 1, 1, 0])"
      ]
     },
     "execution_count": 22,
     "metadata": {},
     "output_type": "execute_result"
    }
   ],
   "source": [
    "y_hat = clf.predict(x_train)\n",
    "y_hat"
   ]
  },
  {
   "cell_type": "markdown",
   "id": "5e7b0461",
   "metadata": {},
   "source": [
    "## Getting parameters"
   ]
  },
  {
   "cell_type": "code",
   "execution_count": 23,
   "id": "69b9bd70",
   "metadata": {},
   "outputs": [
    {
     "data": {
      "text/plain": [
       "{'algorithm': 'auto',\n",
       " 'leaf_size': 30,\n",
       " 'metric': 'minkowski',\n",
       " 'metric_params': None,\n",
       " 'n_jobs': None,\n",
       " 'n_neighbors': 10,\n",
       " 'p': 2,\n",
       " 'weights': 'distance'}"
      ]
     },
     "execution_count": 23,
     "metadata": {},
     "output_type": "execute_result"
    }
   ],
   "source": [
    "clf.get_params()"
   ]
  },
  {
   "cell_type": "markdown",
   "id": "f49b9756",
   "metadata": {},
   "source": [
    "### Getting the error rates of a set of models"
   ]
  },
  {
   "cell_type": "code",
   "execution_count": 24,
   "id": "c67f073d",
   "metadata": {},
   "outputs": [],
   "source": [
    "error_uniform = []\n",
    "error_distance = []\n",
    "\n",
    "k_range = range(1, 51)\n",
    "\n",
    "for k in k_range:\n",
    "    \n",
    "    clf = KNeighborsClassifier(n_neighbors = k, weights = 'uniform')\n",
    "    clf.fit(x_train, y_train)\n",
    "    predictions = clf.predict(x_test)\n",
    "    error_uniform.append(1 - accuracy_score(y_test, predictions))\n",
    "    \n",
    "    clf = KNeighborsClassifier(n_neighbors = k, weights = 'distance')\n",
    "    clf.fit(x_train, y_train)\n",
    "    predictions = clf.predict(x_test)\n",
    "    error_distance.append(1 - accuracy_score(y_test, predictions))"
   ]
  },
  {
   "cell_type": "markdown",
   "id": "16c80ee9",
   "metadata": {},
   "source": [
    "### Plotting the error rates as a function of the number of neighbors"
   ]
  },
  {
   "cell_type": "code",
   "execution_count": 25,
   "id": "dd9887a9",
   "metadata": {},
   "outputs": [
    {
     "data": {
      "text/plain": [
       "Text(0, 0.5, 'Error rate')"
      ]
     },
     "execution_count": 25,
     "metadata": {},
     "output_type": "execute_result"
    },
    {
     "data": {
      "image/png": "[encoded data removed]",
      "text/plain": [
       "<Figure size 1152x648 with 1 Axes>"
      ]
     },
     "metadata": {},
     "output_type": "display_data"
    }
   ],
   "source": [
    "plt.figure(figsize = (16, 9))\n",
    "\n",
    "plt.plot(k_range, error_uniform, c = 'blue', linestyle = 'solid', \n",
    "         marker = 'o', markerfacecolor = 'red',  label = 'Error uniform');\n",
    "plt.plot(k_range, error_distance, c = 'green', linestyle = 'dashed', \n",
    "         marker = 'o', markerfacecolor = 'red', label = 'Error distance');\n",
    "\n",
    "plt.legend()\n",
    "\n",
    "plt.xlabel('K-value')\n",
    "plt.ylabel('Error rate')"
   ]
  },
  {
   "cell_type": "markdown",
   "id": "d094c57f",
   "metadata": {},
   "source": [
    "### Choosing a set of parameters to test"
   ]
  },
  {
   "cell_type": "code",
   "execution_count": 26,
   "id": "5cc5d6bb",
   "metadata": {},
   "outputs": [],
   "source": [
    "parameters = {'n_neighbors':range(1, 51), \n",
    "              'weights':['uniform', 'distance']}"
   ]
  },
  {
   "cell_type": "markdown",
   "id": "d6ccf23b",
   "metadata": {},
   "source": [
    "### Create an instance of the GridSearchCV class"
   ]
  },
  {
   "cell_type": "code",
   "execution_count": 27,
   "id": "127ebb37",
   "metadata": {},
   "outputs": [],
   "source": [
    "grid_search = GridSearchCV(estimator = KNeighborsClassifier(), \n",
    "                           param_grid = parameters, \n",
    "                           scoring = 'accuracy')"
   ]
  },
  {
   "cell_type": "code",
   "execution_count": 28,
   "id": "43ff0beb",
   "metadata": {},
   "outputs": [
    {
     "name": "stderr",
     "output_type": "stream",
     "text": [
      "/Users/pawelorawiec/opt/anaconda3/lib/python3.9/site-packages/sklearn/model_selection/_split.py:676: UserWarning: The least populated class in y has only 1 members, which is less than n_splits=5.\n",
      "  warnings.warn(\n"
     ]
    },
    {
     "data": {
      "text/plain": [
       "GridSearchCV(estimator=KNeighborsClassifier(),\n",
       "             param_grid={'n_neighbors': range(1, 51),\n",
       "                         'weights': ['uniform', 'distance']},\n",
       "             scoring='accuracy')"
      ]
     },
     "execution_count": 28,
     "metadata": {},
     "output_type": "execute_result"
    }
   ],
   "source": [
    "grid_search.fit(x_train, y_train)"
   ]
  },
  {
   "cell_type": "code",
   "execution_count": 29,
   "id": "a6a89520",
   "metadata": {},
   "outputs": [
    {
     "data": {
      "text/plain": [
       "{'n_neighbors': 10, 'weights': 'distance'}"
      ]
     },
     "execution_count": 29,
     "metadata": {},
     "output_type": "execute_result"
    }
   ],
   "source": [
    "grid_search.best_params_"
   ]
  },
  {
   "cell_type": "code",
   "execution_count": 30,
   "id": "41086a93",
   "metadata": {},
   "outputs": [
    {
     "data": {
      "text/plain": [
       "KNeighborsClassifier(n_neighbors=10, weights='distance')"
      ]
     },
     "execution_count": 30,
     "metadata": {},
     "output_type": "execute_result"
    }
   ],
   "source": [
    "clf = grid_search.best_estimator_\n",
    "clf"
   ]
  },
  {
   "cell_type": "code",
   "execution_count": 31,
   "id": "50aa5d62",
   "metadata": {},
   "outputs": [
    {
     "data": {
      "text/plain": [
       "0.9932523616734145"
      ]
     },
     "execution_count": 31,
     "metadata": {},
     "output_type": "execute_result"
    }
   ],
   "source": [
    "grid_search.best_score_"
   ]
  },
  {
   "cell_type": "markdown",
   "id": "35b07c19",
   "metadata": {},
   "source": [
    "### Make predictions on the test dataset"
   ]
  },
  {
   "cell_type": "code",
   "execution_count": 32,
   "id": "ea3b58de",
   "metadata": {},
   "outputs": [
    {
     "data": {
      "text/plain": [
       "(927,)"
      ]
     },
     "execution_count": 32,
     "metadata": {},
     "output_type": "execute_result"
    }
   ],
   "source": [
    "y_test_pred = clf.predict(x_test)\n",
    "y_test_pred.shape"
   ]
  },
  {
   "cell_type": "markdown",
   "id": "3ab46b8f",
   "metadata": {},
   "source": [
    "### Construct the confusion matrix"
   ]
  },
  {
   "cell_type": "code",
   "execution_count": 33,
   "id": "ae1594aa",
   "metadata": {},
   "outputs": [
    {
     "data": {
      "text/plain": [
       "<Figure size 1296x648 with 0 Axes>"
      ]
     },
     "metadata": {},
     "output_type": "display_data"
    },
    {
     "data": {
      "image/png": "[encoded data removed]",
      "text/plain": [
       "<Figure size 432x288 with 2 Axes>"
      ]
     },
     "metadata": {
      "needs_background": "light"
     },
     "output_type": "display_data"
    }
   ],
   "source": [
    "plt.figure(figsize = (18, 9))\n",
    "\n",
    "sns.reset_orig()\n",
    "ConfusionMatrixDisplay.from_predictions(\n",
    "    y_test, y_test_pred,\n",
    "    labels = clf.classes_,\n",
    "    cmap = 'magma'\n",
    ");"
   ]
  },
  {
   "cell_type": "markdown",
   "id": "a8b8cba5",
   "metadata": {},
   "source": [
    "### Print out the classification report"
   ]
  },
  {
   "cell_type": "code",
   "execution_count": 34,
   "id": "42fd45a5",
   "metadata": {},
   "outputs": [
    {
     "name": "stdout",
     "output_type": "stream",
     "text": [
      "              precision    recall  f1-score   support\n",
      "\n",
      "           0       1.00      1.00      1.00       534\n",
      "           1       0.99      1.00      0.99       253\n",
      "           2       0.80      1.00      0.89         4\n",
      "           3       0.99      0.98      0.98       132\n",
      "           4       0.00      0.00      0.00         2\n",
      "           6       1.00      1.00      1.00         2\n",
      "\n",
      "    accuracy                           0.99       927\n",
      "   macro avg       0.80      0.83      0.81       927\n",
      "weighted avg       0.99      0.99      0.99       927\n",
      "\n"
     ]
    },
    {
     "name": "stderr",
     "output_type": "stream",
     "text": [
      "/Users/pawelorawiec/opt/anaconda3/lib/python3.9/site-packages/sklearn/metrics/_classification.py:1318: UndefinedMetricWarning: Precision and F-score are ill-defined and being set to 0.0 in labels with no predicted samples. Use `zero_division` parameter to control this behavior.\n",
      "  _warn_prf(average, modifier, msg_start, len(result))\n",
      "/Users/pawelorawiec/opt/anaconda3/lib/python3.9/site-packages/sklearn/metrics/_classification.py:1318: UndefinedMetricWarning: Precision and F-score are ill-defined and being set to 0.0 in labels with no predicted samples. Use `zero_division` parameter to control this behavior.\n",
      "  _warn_prf(average, modifier, msg_start, len(result))\n",
      "/Users/pawelorawiec/opt/anaconda3/lib/python3.9/site-packages/sklearn/metrics/_classification.py:1318: UndefinedMetricWarning: Precision and F-score are ill-defined and being set to 0.0 in labels with no predicted samples. Use `zero_division` parameter to control this behavior.\n",
      "  _warn_prf(average, modifier, msg_start, len(result))\n"
     ]
    }
   ],
   "source": [
    "print(classification_report(y_test, y_test_pred, target_names = ['0', '1', '2', '3', '4', '6']))"
   ]
  },
  {
   "cell_type": "code",
   "execution_count": null,
   "id": "a90f2df7",
   "metadata": {},
   "outputs": [],
   "source": []
  }
 ],
 "metadata": {
  "kernelspec": {
   "display_name": "Python 3 (ipykernel)",
   "language": "python",
   "name": "python3"
  },
  "language_info": {
   "codemirror_mode": {
    "name": "ipython",
    "version": 3
   },
   "file_extension": ".py",
   "mimetype": "text/x-python",
   "name": "python",
   "nbconvert_exporter": "python",
   "pygments_lexer": "ipython3",
   "version": "3.9.12"
  }
 },
 "nbformat": 4,
 "nbformat_minor": 5
}
